{
 "cells": [
  {
   "cell_type": "markdown",
   "metadata": {},
   "source": [
    "## 1. Import Lib"
   ]
  },
  {
   "cell_type": "code",
   "execution_count": 1,
   "metadata": {},
   "outputs": [],
   "source": [
    "# Data Manipulation and Analysis\n",
    "import numpy as np \n",
    "import pandas as pd \n",
    "\n",
    "# Data Visualization\n",
    "import matplotlib.pyplot as plt\n",
    "import seaborn as sns\n",
    "\n",
    "# Feature Selection\n",
    "from sklearn.feature_selection import mutual_info_classif\n",
    "\n",
    "\n",
    "# Pipeline\n",
    "from sklearn.pipeline import Pipeline, make_pipeline\n",
    "\n",
    "# Transformers\n",
    "from sklearn.base import BaseEstimator, TransformerMixin\n",
    "from sklearn.compose import ColumnTransformer\n",
    "from sklearn.preprocessing import OneHotEncoder, LabelEncoder\n",
    "\n",
    "# Preprocessors\n",
    "from sklearn.preprocessing import StandardScaler, RobustScaler, MinMaxScaler, QuantileTransformer, OneHotEncoder, LabelEncoder\n",
    "\n",
    "# Model Building\n",
    "from sklearn.linear_model import LogisticRegression\n",
    "from sklearn.ensemble import RandomForestClassifier\n",
    "from lightgbm import LGBMClassifier\n",
    "from xgboost import XGBClassifier\n",
    "\n",
    "from sklearn.ensemble import VotingClassifier\n",
    "from sklearn.ensemble import StackingClassifier\n",
    "\n",
    "# Cross validation\n",
    "from sklearn.model_selection import cross_validate, cross_val_score, cross_val_predict, StratifiedKFold, KFold\n",
    "from sklearn.model_selection import train_test_split\n",
    "\n",
    "# Statistical Analysis\n",
    "from scipy.stats import chi2_contingency\n",
    "\n",
    "# Metrices\n",
    "from sklearn.metrics import confusion_matrix\n",
    "from sklearn.metrics import accuracy_score, precision_score, recall_score, f1_score\n",
    "from sklearn.metrics import log_loss\n",
    "\n",
    "\n",
    "# Hyperparameter Tuning\n",
    "import optuna\n",
    "from optuna.samplers import TPESampler\n",
    "from optuna.pruners import MedianPruner\n",
    "\n",
    "# Tabulate\n",
    "from tabulate import tabulate\n",
    "\n",
    "# Warnings\n",
    "import warnings"
   ]
  },
  {
   "cell_type": "code",
   "execution_count": 2,
   "metadata": {},
   "outputs": [],
   "source": [
    "data = [\n",
    "    [\"FAVC\", \"Frequency of consumption of high-caloric food\"],\n",
    "    [\"FCVC\", \"Frequency of consumption of vegetables\"],\n",
    "    [\"NCP\", \"Number of main meals\"],\n",
    "    [\"CAEC\", \"Consumption of food between meals\"],\n",
    "    [\"SMOKE\", \"Smoking habit\"],\n",
    "    [\"CH2O\", \"Daily water consumption\"],\n",
    "    [\"SCC\", \"Calories consumption monitoring\"],\n",
    "    [\"FAF\", \"Physical activity frequency\"],\n",
    "    [\"TUE\", \"Time spent on sedentary activities (TV/Computer)\"],\n",
    "    [\"CALC\", \"Consumption of alcohol\"],\n",
    "    [\"MTRANS\", \"Mode of transportation used\"],\n",
    "    [\"FHWO\", \"Family history withoverweight\"]\n",
    "]\n",
    "\n",
    "table = tabulate(data, headers=[\"Id\",\"Column\", \"Description\"], tablefmt=\"orgtbl\", numalign=\"center\", stralign=\"left\", showindex=True )"
   ]
  },
  {
   "cell_type": "code",
   "execution_count": 3,
   "metadata": {},
   "outputs": [
    {
     "name": "stdout",
     "output_type": "stream",
     "text": [
      "|  Id  | Column   | Description                                      |\n",
      "|------+----------+--------------------------------------------------|\n",
      "|  0   | FAVC     | Frequency of consumption of high-caloric food    |\n",
      "|  1   | FCVC     | Frequency of consumption of vegetables           |\n",
      "|  2   | NCP      | Number of main meals                             |\n",
      "|  3   | CAEC     | Consumption of food between meals                |\n",
      "|  4   | SMOKE    | Smoking habit                                    |\n",
      "|  5   | CH2O     | Daily water consumption                          |\n",
      "|  6   | SCC      | Calories consumption monitoring                  |\n",
      "|  7   | FAF      | Physical activity frequency                      |\n",
      "|  8   | TUE      | Time spent on sedentary activities (TV/Computer) |\n",
      "|  9   | CALC     | Consumption of alcohol                           |\n",
      "|  10  | MTRANS   | Mode of transportation used                      |\n",
      "|  11  | FHWO     | Family history withoverweight                    |\n"
     ]
    }
   ],
   "source": [
    "print(table)"
   ]
  },
  {
   "cell_type": "markdown",
   "metadata": {},
   "source": [
    "## 2. Import file"
   ]
  },
  {
   "cell_type": "code",
   "execution_count": 4,
   "metadata": {},
   "outputs": [],
   "source": [
    "# import the obesity dataset csv files\n",
    "df = pd.read_csv('data/train.csv')"
   ]
  },
  {
   "cell_type": "code",
   "execution_count": 5,
   "metadata": {},
   "outputs": [],
   "source": [
    "df_obesity = df.copy()"
   ]
  },
  {
   "cell_type": "code",
   "execution_count": 6,
   "metadata": {},
   "outputs": [],
   "source": [
    "df_obesity.drop(['id'], axis=1, inplace=True)"
   ]
  },
  {
   "cell_type": "code",
   "execution_count": 7,
   "metadata": {},
   "outputs": [],
   "source": [
    "df_obesity.rename(columns={\"family_history_with_overweight\": \"FHWO\"}, inplace=True)"
   ]
  },
  {
   "cell_type": "code",
   "execution_count": 8,
   "metadata": {},
   "outputs": [
    {
     "name": "stdout",
     "output_type": "stream",
     "text": [
      "Training Dataset : (20758, 17)\n"
     ]
    }
   ],
   "source": [
    "# Training dataset dimensions\n",
    "print(\"Training Dataset :\",df_obesity.shape)"
   ]
  },
  {
   "cell_type": "code",
   "execution_count": 9,
   "metadata": {},
   "outputs": [
    {
     "data": {
      "text/plain": [
       "Index(['Gender', 'Age', 'Height', 'Weight', 'FHWO', 'FAVC', 'FCVC', 'NCP',\n",
       "       'CAEC', 'SMOKE', 'CH2O', 'SCC', 'FAF', 'TUE', 'CALC', 'MTRANS',\n",
       "       'NObeyesdad'],\n",
       "      dtype='object')"
      ]
     },
     "execution_count": 9,
     "metadata": {},
     "output_type": "execute_result"
    }
   ],
   "source": [
    "df_obesity.columns"
   ]
  },
  {
   "cell_type": "code",
   "execution_count": 10,
   "metadata": {},
   "outputs": [
    {
     "name": "stdout",
     "output_type": "stream",
     "text": [
      "Misssing values in tranning dataset : 0\n"
     ]
    }
   ],
   "source": [
    "print(\"Misssing values in tranning dataset :\", df_obesity.isna().sum().sum())"
   ]
  },
  {
   "cell_type": "code",
   "execution_count": 11,
   "metadata": {},
   "outputs": [
    {
     "data": {
      "text/plain": [
       "Gender           2\n",
       "Age           1703\n",
       "Height        1833\n",
       "Weight        1979\n",
       "FHWO             2\n",
       "FAVC             2\n",
       "FCVC           934\n",
       "NCP            689\n",
       "CAEC             4\n",
       "SMOKE            2\n",
       "CH2O          1506\n",
       "SCC              2\n",
       "FAF           1360\n",
       "TUE           1297\n",
       "CALC             3\n",
       "MTRANS           5\n",
       "NObeyesdad       7\n",
       "dtype: int64"
      ]
     },
     "execution_count": 11,
     "metadata": {},
     "output_type": "execute_result"
    }
   ],
   "source": [
    "df_obesity.nunique()"
   ]
  },
  {
   "cell_type": "code",
   "execution_count": 12,
   "metadata": {},
   "outputs": [
    {
     "data": {
      "text/plain": [
       "NObeyesdad\n",
       "Obesity_Type_III       0.194913\n",
       "Obesity_Type_II        0.156470\n",
       "Normal_Weight          0.148473\n",
       "Obesity_Type_I         0.140187\n",
       "Insufficient_Weight    0.121544\n",
       "Overweight_Level_II    0.121495\n",
       "Overweight_Level_I     0.116919\n",
       "Name: proportion, dtype: float64"
      ]
     },
     "execution_count": 12,
     "metadata": {},
     "output_type": "execute_result"
    }
   ],
   "source": [
    "df_obesity['NObeyesdad'].value_counts(normalize=True)"
   ]
  },
  {
   "cell_type": "code",
   "execution_count": 13,
   "metadata": {},
   "outputs": [
    {
     "data": {
      "text/plain": [
       "<Axes: xlabel='NObeyesdad', ylabel='count'>"
      ]
     },
     "execution_count": 13,
     "metadata": {},
     "output_type": "execute_result"
    },
    {
     "data": {
      "image/png": "[encoded data removed]",
      "text/plain": [
       "<Figure size 640x480 with 1 Axes>"
      ]
     },
     "metadata": {},
     "output_type": "display_data"
    }
   ],
   "source": [
    "sns.countplot(data=df_obesity,x='NObeyesdad')"
   ]
  },
  {
   "cell_type": "code",
   "execution_count": 14,
   "metadata": {},
   "outputs": [
    {
     "data": {
      "text/plain": [
       "20758"
      ]
     },
     "execution_count": 14,
     "metadata": {},
     "output_type": "execute_result"
    }
   ],
   "source": [
    "total_count = len(df_obesity)\n",
    "total_count"
   ]
  },
  {
   "cell_type": "code",
   "execution_count": 15,
   "metadata": {},
   "outputs": [
    {
     "data": {
      "text/plain": [
       "['Age', 'Height', 'Weight', 'FCVC', 'NCP', 'CH2O', 'FAF', 'TUE']"
      ]
     },
     "execution_count": 15,
     "metadata": {},
     "output_type": "execute_result"
    }
   ],
   "source": [
    "obesity_numerical_features = list(['Age', 'Height', 'Weight', 'FCVC', 'NCP', 'CH2O', 'FAF', 'TUE'])\n",
    "obesity_numerical_features"
   ]
  },
  {
   "cell_type": "code",
   "execution_count": 16,
   "metadata": {},
   "outputs": [
    {
     "data": {
      "text/plain": [
       "['MTRANS',\n",
       " 'FAVC',\n",
       " 'CAEC',\n",
       " 'Gender',\n",
       " 'SCC',\n",
       " 'FHWO',\n",
       " 'CALC',\n",
       " 'SMOKE',\n",
       " 'NObeyesdad']"
      ]
     },
     "execution_count": 16,
     "metadata": {},
     "output_type": "execute_result"
    }
   ],
   "source": [
    "obesity_categorical_features = list(set(df_obesity.columns) - set(obesity_numerical_features))\n",
    "obesity_categorical_features"
   ]
  },
  {
   "cell_type": "markdown",
   "metadata": {},
   "source": [
    "## Feature Engineering "
   ]
  },
  {
   "cell_type": "code",
   "execution_count": 17,
   "metadata": {},
   "outputs": [],
   "source": [
    "map_yesno = { \n",
    "            'yes' : 1,\n",
    "            'no' : 0,\n",
    "}\n",
    "\n",
    "map_gender = {\n",
    "            'Male' : 1,\n",
    "            'Female' : 0,\n",
    "}\n",
    "\n",
    "map_CAEC = {\n",
    "            'Sometimes' : 4,\n",
    "            'Frequently' : 3,\n",
    "            'Always' : 2,\n",
    "            'no' : 1,\n",
    "}\n",
    "\n",
    "map_MTRANS = {\n",
    "            'Public_Transportation' : 0,\n",
    "            'Automobile' : 1,\n",
    "            'Walking' : 2,\n",
    "            'Motorbike' : 3,\n",
    "            'Bike' : 4,\n",
    "}\n",
    "\n",
    "map_target = {\n",
    "        'Insufficient_Weight': 0,\n",
    "        'Normal_Weight': 1,\n",
    "        'Overweight_Level_I': 2,\n",
    "        'Overweight_Level_II': 3,\n",
    "        'Obesity_Type_I': 4,\n",
    "        'Obesity_Type_II': 5,\n",
    "        'Obesity_Type_III': 6, \n",
    "}\n",
    "\n",
    "map_CALC = {\n",
    "        'Sometimes' : 1,\n",
    "        'Frequently' : 2,\n",
    "        'no' : 0\n",
    "}"
   ]
  },
  {
   "cell_type": "code",
   "execution_count": 19,
   "metadata": {},
   "outputs": [],
   "source": [
    "df_obesity['Gender'] = df_obesity['Gender'].map(map_gender) \n",
    "df_obesity['FHWO'] = df_obesity['FHWO'].map(map_yesno) \n",
    "df_obesity['FAVC'] = df_obesity['FAVC'].map(map_yesno) \n",
    "df_obesity['SMOKE'] = df_obesity['SMOKE'].map(map_yesno) \n",
    "df_obesity['SCC'] = df_obesity['SCC'].map(map_yesno)\n",
    "df_obesity['CAEC'] = df_obesity['CAEC'].map(map_CAEC)\n",
    "df_obesity['CALC'] = df_obesity['CALC'].map(map_CALC)\n",
    "df_obesity['MTRANS'] = df_obesity['MTRANS'].map(map_MTRANS)\n",
    "df_obesity['NObeyesdad'] = df_obesity['NObeyesdad'].map(map_target)"
   ]
  },
  {
   "cell_type": "code",
   "execution_count": 20,
   "metadata": {},
   "outputs": [
    {
     "data": {
      "text/html": [
       "<div>\n",
       "<style scoped>\n",
       "    .dataframe tbody tr th:only-of-type {\n",
       "        vertical-align: middle;\n",
       "    }\n",
       "\n",
       "    .dataframe tbody tr th {\n",
       "        vertical-align: top;\n",
       "    }\n",
       "\n",
       "    .dataframe thead th {\n",
       "        text-align: right;\n",
       "    }\n",
       "</style>\n",
       "<table border=\"1\" class=\"dataframe\">\n",
       "  <thead>\n",
       "    <tr style=\"text-align: right;\">\n",
       "      <th></th>\n",
       "      <th>Gender</th>\n",
       "      <th>Age</th>\n",
       "      <th>Height</th>\n",
       "      <th>Weight</th>\n",
       "      <th>FHWO</th>\n",
       "      <th>FAVC</th>\n",
       "      <th>FCVC</th>\n",
       "      <th>NCP</th>\n",
       "      <th>CAEC</th>\n",
       "      <th>SMOKE</th>\n",
       "      <th>CH2O</th>\n",
       "      <th>SCC</th>\n",
       "      <th>FAF</th>\n",
       "      <th>TUE</th>\n",
       "      <th>CALC</th>\n",
       "      <th>MTRANS</th>\n",
       "      <th>NObeyesdad</th>\n",
       "    </tr>\n",
       "  </thead>\n",
       "  <tbody>\n",
       "    <tr>\n",
       "      <th>0</th>\n",
       "      <td>1</td>\n",
       "      <td>24.443011</td>\n",
       "      <td>1.699998</td>\n",
       "      <td>81.669950</td>\n",
       "      <td>1</td>\n",
       "      <td>1</td>\n",
       "      <td>2.000000</td>\n",
       "      <td>2.983297</td>\n",
       "      <td>4</td>\n",
       "      <td>0</td>\n",
       "      <td>2.763573</td>\n",
       "      <td>0</td>\n",
       "      <td>0.000000</td>\n",
       "      <td>0.976473</td>\n",
       "      <td>1</td>\n",
       "      <td>0</td>\n",
       "      <td>3</td>\n",
       "    </tr>\n",
       "    <tr>\n",
       "      <th>1</th>\n",
       "      <td>0</td>\n",
       "      <td>18.000000</td>\n",
       "      <td>1.560000</td>\n",
       "      <td>57.000000</td>\n",
       "      <td>1</td>\n",
       "      <td>1</td>\n",
       "      <td>2.000000</td>\n",
       "      <td>3.000000</td>\n",
       "      <td>3</td>\n",
       "      <td>0</td>\n",
       "      <td>2.000000</td>\n",
       "      <td>0</td>\n",
       "      <td>1.000000</td>\n",
       "      <td>1.000000</td>\n",
       "      <td>0</td>\n",
       "      <td>1</td>\n",
       "      <td>1</td>\n",
       "    </tr>\n",
       "    <tr>\n",
       "      <th>2</th>\n",
       "      <td>0</td>\n",
       "      <td>18.000000</td>\n",
       "      <td>1.711460</td>\n",
       "      <td>50.165754</td>\n",
       "      <td>1</td>\n",
       "      <td>1</td>\n",
       "      <td>1.880534</td>\n",
       "      <td>1.411685</td>\n",
       "      <td>4</td>\n",
       "      <td>0</td>\n",
       "      <td>1.910378</td>\n",
       "      <td>0</td>\n",
       "      <td>0.866045</td>\n",
       "      <td>1.673584</td>\n",
       "      <td>0</td>\n",
       "      <td>0</td>\n",
       "      <td>0</td>\n",
       "    </tr>\n",
       "    <tr>\n",
       "      <th>3</th>\n",
       "      <td>0</td>\n",
       "      <td>20.952737</td>\n",
       "      <td>1.710730</td>\n",
       "      <td>131.274851</td>\n",
       "      <td>1</td>\n",
       "      <td>1</td>\n",
       "      <td>3.000000</td>\n",
       "      <td>3.000000</td>\n",
       "      <td>4</td>\n",
       "      <td>0</td>\n",
       "      <td>1.674061</td>\n",
       "      <td>0</td>\n",
       "      <td>1.467863</td>\n",
       "      <td>0.780199</td>\n",
       "      <td>1</td>\n",
       "      <td>0</td>\n",
       "      <td>6</td>\n",
       "    </tr>\n",
       "    <tr>\n",
       "      <th>4</th>\n",
       "      <td>1</td>\n",
       "      <td>31.641081</td>\n",
       "      <td>1.914186</td>\n",
       "      <td>93.798055</td>\n",
       "      <td>1</td>\n",
       "      <td>1</td>\n",
       "      <td>2.679664</td>\n",
       "      <td>1.971472</td>\n",
       "      <td>4</td>\n",
       "      <td>0</td>\n",
       "      <td>1.979848</td>\n",
       "      <td>0</td>\n",
       "      <td>1.967973</td>\n",
       "      <td>0.931721</td>\n",
       "      <td>1</td>\n",
       "      <td>0</td>\n",
       "      <td>3</td>\n",
       "    </tr>\n",
       "    <tr>\n",
       "      <th>...</th>\n",
       "      <td>...</td>\n",
       "      <td>...</td>\n",
       "      <td>...</td>\n",
       "      <td>...</td>\n",
       "      <td>...</td>\n",
       "      <td>...</td>\n",
       "      <td>...</td>\n",
       "      <td>...</td>\n",
       "      <td>...</td>\n",
       "      <td>...</td>\n",
       "      <td>...</td>\n",
       "      <td>...</td>\n",
       "      <td>...</td>\n",
       "      <td>...</td>\n",
       "      <td>...</td>\n",
       "      <td>...</td>\n",
       "      <td>...</td>\n",
       "    </tr>\n",
       "    <tr>\n",
       "      <th>20753</th>\n",
       "      <td>1</td>\n",
       "      <td>25.137087</td>\n",
       "      <td>1.766626</td>\n",
       "      <td>114.187096</td>\n",
       "      <td>1</td>\n",
       "      <td>1</td>\n",
       "      <td>2.919584</td>\n",
       "      <td>3.000000</td>\n",
       "      <td>4</td>\n",
       "      <td>0</td>\n",
       "      <td>2.151809</td>\n",
       "      <td>0</td>\n",
       "      <td>1.330519</td>\n",
       "      <td>0.196680</td>\n",
       "      <td>1</td>\n",
       "      <td>0</td>\n",
       "      <td>5</td>\n",
       "    </tr>\n",
       "    <tr>\n",
       "      <th>20754</th>\n",
       "      <td>1</td>\n",
       "      <td>18.000000</td>\n",
       "      <td>1.710000</td>\n",
       "      <td>50.000000</td>\n",
       "      <td>0</td>\n",
       "      <td>1</td>\n",
       "      <td>3.000000</td>\n",
       "      <td>4.000000</td>\n",
       "      <td>3</td>\n",
       "      <td>0</td>\n",
       "      <td>1.000000</td>\n",
       "      <td>0</td>\n",
       "      <td>2.000000</td>\n",
       "      <td>1.000000</td>\n",
       "      <td>1</td>\n",
       "      <td>0</td>\n",
       "      <td>0</td>\n",
       "    </tr>\n",
       "    <tr>\n",
       "      <th>20755</th>\n",
       "      <td>1</td>\n",
       "      <td>20.101026</td>\n",
       "      <td>1.819557</td>\n",
       "      <td>105.580491</td>\n",
       "      <td>1</td>\n",
       "      <td>1</td>\n",
       "      <td>2.407817</td>\n",
       "      <td>3.000000</td>\n",
       "      <td>4</td>\n",
       "      <td>0</td>\n",
       "      <td>2.000000</td>\n",
       "      <td>0</td>\n",
       "      <td>1.158040</td>\n",
       "      <td>1.198439</td>\n",
       "      <td>0</td>\n",
       "      <td>0</td>\n",
       "      <td>5</td>\n",
       "    </tr>\n",
       "    <tr>\n",
       "      <th>20756</th>\n",
       "      <td>1</td>\n",
       "      <td>33.852953</td>\n",
       "      <td>1.700000</td>\n",
       "      <td>83.520113</td>\n",
       "      <td>1</td>\n",
       "      <td>1</td>\n",
       "      <td>2.671238</td>\n",
       "      <td>1.971472</td>\n",
       "      <td>4</td>\n",
       "      <td>0</td>\n",
       "      <td>2.144838</td>\n",
       "      <td>0</td>\n",
       "      <td>0.000000</td>\n",
       "      <td>0.973834</td>\n",
       "      <td>0</td>\n",
       "      <td>1</td>\n",
       "      <td>3</td>\n",
       "    </tr>\n",
       "    <tr>\n",
       "      <th>20757</th>\n",
       "      <td>1</td>\n",
       "      <td>26.680376</td>\n",
       "      <td>1.816547</td>\n",
       "      <td>118.134898</td>\n",
       "      <td>1</td>\n",
       "      <td>1</td>\n",
       "      <td>3.000000</td>\n",
       "      <td>3.000000</td>\n",
       "      <td>4</td>\n",
       "      <td>0</td>\n",
       "      <td>2.003563</td>\n",
       "      <td>0</td>\n",
       "      <td>0.684487</td>\n",
       "      <td>0.713823</td>\n",
       "      <td>1</td>\n",
       "      <td>0</td>\n",
       "      <td>5</td>\n",
       "    </tr>\n",
       "  </tbody>\n",
       "</table>\n",
       "<p>20758 rows × 17 columns</p>\n",
       "</div>"
      ],
      "text/plain": [
       "       Gender        Age    Height      Weight  FHWO  FAVC      FCVC  \\\n",
       "0           1  24.443011  1.699998   81.669950     1     1  2.000000   \n",
       "1           0  18.000000  1.560000   57.000000     1     1  2.000000   \n",
       "2           0  18.000000  1.711460   50.165754     1     1  1.880534   \n",
       "3           0  20.952737  1.710730  131.274851     1     1  3.000000   \n",
       "4           1  31.641081  1.914186   93.798055     1     1  2.679664   \n",
       "...       ...        ...       ...         ...   ...   ...       ...   \n",
       "20753       1  25.137087  1.766626  114.187096     1     1  2.919584   \n",
       "20754       1  18.000000  1.710000   50.000000     0     1  3.000000   \n",
       "20755       1  20.101026  1.819557  105.580491     1     1  2.407817   \n",
       "20756       1  33.852953  1.700000   83.520113     1     1  2.671238   \n",
       "20757       1  26.680376  1.816547  118.134898     1     1  3.000000   \n",
       "\n",
       "            NCP  CAEC  SMOKE      CH2O  SCC       FAF       TUE  CALC  MTRANS  \\\n",
       "0      2.983297     4      0  2.763573    0  0.000000  0.976473     1       0   \n",
       "1      3.000000     3      0  2.000000    0  1.000000  1.000000     0       1   \n",
       "2      1.411685     4      0  1.910378    0  0.866045  1.673584     0       0   \n",
       "3      3.000000     4      0  1.674061    0  1.467863  0.780199     1       0   \n",
       "4      1.971472     4      0  1.979848    0  1.967973  0.931721     1       0   \n",
       "...         ...   ...    ...       ...  ...       ...       ...   ...     ...   \n",
       "20753  3.000000     4      0  2.151809    0  1.330519  0.196680     1       0   \n",
       "20754  4.000000     3      0  1.000000    0  2.000000  1.000000     1       0   \n",
       "20755  3.000000     4      0  2.000000    0  1.158040  1.198439     0       0   \n",
       "20756  1.971472     4      0  2.144838    0  0.000000  0.973834     0       1   \n",
       "20757  3.000000     4      0  2.003563    0  0.684487  0.713823     1       0   \n",
       "\n",
       "       NObeyesdad  \n",
       "0               3  \n",
       "1               1  \n",
       "2               0  \n",
       "3               6  \n",
       "4               3  \n",
       "...           ...  \n",
       "20753           5  \n",
       "20754           0  \n",
       "20755           5  \n",
       "20756           3  \n",
       "20757           5  \n",
       "\n",
       "[20758 rows x 17 columns]"
      ]
     },
     "execution_count": 20,
     "metadata": {},
     "output_type": "execute_result"
    }
   ],
   "source": [
    "df_obesity"
   ]
  },
  {
   "cell_type": "code",
   "execution_count": 21,
   "metadata": {},
   "outputs": [],
   "source": [
    "\n",
    "def feature_engineering(data):\n",
    "    # BMI\n",
    "    data['BMI'] = data['Weight'] / (data['Height'] ** 2)\n",
    "    # Activity\n",
    "    data['Activity'] = data['FAF'] * data['TUE']\n",
    "    # Age group\n",
    "    data['Age_Group'] = pd.cut(data['Age'], bins=[0, 18, 30, 45, float('inf')], labels=[0, 1, 2, 3])\n",
    "    data['Age_Group'] = data['Age_Group'].astype(int)\n",
    "    # Height group\n",
    "    data['Height_Group'] = pd.cut(data['Height'], bins=[0, 1.5, 1.6, 1.7, 1.8, 1.9, 2.0, float('inf')], labels=[0, 1, 2, 3, 4, 5, 6])\n",
    "    data['Height_Group'] = data['Height_Group'].astype(int)"
   ]
  },
  {
   "cell_type": "code",
   "execution_count": null,
   "metadata": {},
   "outputs": [],
   "source": [
    "numerical_transformer = Pipeline(steps=[\n",
    "    ('quantile', QuantileTransformer(output_distribution='normal')),\n",
    "    ('scaler', RobustScaler())\n",
    "])"
   ]
  },
  {
   "cell_type": "code",
   "execution_count": 22,
   "metadata": {},
   "outputs": [],
   "source": [
    "feature_engineering(df_obesity)"
   ]
  },
  {
   "cell_type": "code",
   "execution_count": 24,
   "metadata": {},
   "outputs": [
    {
     "data": {
      "text/html": [
       "<div>\n",
       "<style scoped>\n",
       "    .dataframe tbody tr th:only-of-type {\n",
       "        vertical-align: middle;\n",
       "    }\n",
       "\n",
       "    .dataframe tbody tr th {\n",
       "        vertical-align: top;\n",
       "    }\n",
       "\n",
       "    .dataframe thead th {\n",
       "        text-align: right;\n",
       "    }\n",
       "</style>\n",
       "<table border=\"1\" class=\"dataframe\">\n",
       "  <thead>\n",
       "    <tr style=\"text-align: right;\">\n",
       "      <th></th>\n",
       "      <th>Gender</th>\n",
       "      <th>Age</th>\n",
       "      <th>Height</th>\n",
       "      <th>Weight</th>\n",
       "      <th>FHWO</th>\n",
       "      <th>FAVC</th>\n",
       "      <th>FCVC</th>\n",
       "      <th>NCP</th>\n",
       "      <th>CAEC</th>\n",
       "      <th>SMOKE</th>\n",
       "      <th>...</th>\n",
       "      <th>SCC</th>\n",
       "      <th>FAF</th>\n",
       "      <th>TUE</th>\n",
       "      <th>CALC</th>\n",
       "      <th>MTRANS</th>\n",
       "      <th>NObeyesdad</th>\n",
       "      <th>BMI</th>\n",
       "      <th>Activity</th>\n",
       "      <th>Age_Group</th>\n",
       "      <th>Height_Group</th>\n",
       "    </tr>\n",
       "  </thead>\n",
       "  <tbody>\n",
       "    <tr>\n",
       "      <th>0</th>\n",
       "      <td>1</td>\n",
       "      <td>24.443011</td>\n",
       "      <td>1.699998</td>\n",
       "      <td>81.669950</td>\n",
       "      <td>1</td>\n",
       "      <td>1</td>\n",
       "      <td>2.000000</td>\n",
       "      <td>2.983297</td>\n",
       "      <td>4</td>\n",
       "      <td>0</td>\n",
       "      <td>...</td>\n",
       "      <td>0</td>\n",
       "      <td>0.000000</td>\n",
       "      <td>0.976473</td>\n",
       "      <td>1</td>\n",
       "      <td>0</td>\n",
       "      <td>3</td>\n",
       "      <td>28.259565</td>\n",
       "      <td>0.000000</td>\n",
       "      <td>1</td>\n",
       "      <td>2</td>\n",
       "    </tr>\n",
       "    <tr>\n",
       "      <th>1</th>\n",
       "      <td>0</td>\n",
       "      <td>18.000000</td>\n",
       "      <td>1.560000</td>\n",
       "      <td>57.000000</td>\n",
       "      <td>1</td>\n",
       "      <td>1</td>\n",
       "      <td>2.000000</td>\n",
       "      <td>3.000000</td>\n",
       "      <td>3</td>\n",
       "      <td>0</td>\n",
       "      <td>...</td>\n",
       "      <td>0</td>\n",
       "      <td>1.000000</td>\n",
       "      <td>1.000000</td>\n",
       "      <td>0</td>\n",
       "      <td>1</td>\n",
       "      <td>1</td>\n",
       "      <td>23.422091</td>\n",
       "      <td>1.000000</td>\n",
       "      <td>0</td>\n",
       "      <td>1</td>\n",
       "    </tr>\n",
       "    <tr>\n",
       "      <th>2</th>\n",
       "      <td>0</td>\n",
       "      <td>18.000000</td>\n",
       "      <td>1.711460</td>\n",
       "      <td>50.165754</td>\n",
       "      <td>1</td>\n",
       "      <td>1</td>\n",
       "      <td>1.880534</td>\n",
       "      <td>1.411685</td>\n",
       "      <td>4</td>\n",
       "      <td>0</td>\n",
       "      <td>...</td>\n",
       "      <td>0</td>\n",
       "      <td>0.866045</td>\n",
       "      <td>1.673584</td>\n",
       "      <td>0</td>\n",
       "      <td>0</td>\n",
       "      <td>0</td>\n",
       "      <td>17.126706</td>\n",
       "      <td>1.449399</td>\n",
       "      <td>0</td>\n",
       "      <td>3</td>\n",
       "    </tr>\n",
       "    <tr>\n",
       "      <th>3</th>\n",
       "      <td>0</td>\n",
       "      <td>20.952737</td>\n",
       "      <td>1.710730</td>\n",
       "      <td>131.274851</td>\n",
       "      <td>1</td>\n",
       "      <td>1</td>\n",
       "      <td>3.000000</td>\n",
       "      <td>3.000000</td>\n",
       "      <td>4</td>\n",
       "      <td>0</td>\n",
       "      <td>...</td>\n",
       "      <td>0</td>\n",
       "      <td>1.467863</td>\n",
       "      <td>0.780199</td>\n",
       "      <td>1</td>\n",
       "      <td>0</td>\n",
       "      <td>6</td>\n",
       "      <td>44.855798</td>\n",
       "      <td>1.145225</td>\n",
       "      <td>1</td>\n",
       "      <td>3</td>\n",
       "    </tr>\n",
       "    <tr>\n",
       "      <th>4</th>\n",
       "      <td>1</td>\n",
       "      <td>31.641081</td>\n",
       "      <td>1.914186</td>\n",
       "      <td>93.798055</td>\n",
       "      <td>1</td>\n",
       "      <td>1</td>\n",
       "      <td>2.679664</td>\n",
       "      <td>1.971472</td>\n",
       "      <td>4</td>\n",
       "      <td>0</td>\n",
       "      <td>...</td>\n",
       "      <td>0</td>\n",
       "      <td>1.967973</td>\n",
       "      <td>0.931721</td>\n",
       "      <td>1</td>\n",
       "      <td>0</td>\n",
       "      <td>3</td>\n",
       "      <td>25.599151</td>\n",
       "      <td>1.833602</td>\n",
       "      <td>2</td>\n",
       "      <td>5</td>\n",
       "    </tr>\n",
       "  </tbody>\n",
       "</table>\n",
       "<p>5 rows × 21 columns</p>\n",
       "</div>"
      ],
      "text/plain": [
       "   Gender        Age    Height      Weight  FHWO  FAVC      FCVC       NCP  \\\n",
       "0       1  24.443011  1.699998   81.669950     1     1  2.000000  2.983297   \n",
       "1       0  18.000000  1.560000   57.000000     1     1  2.000000  3.000000   \n",
       "2       0  18.000000  1.711460   50.165754     1     1  1.880534  1.411685   \n",
       "3       0  20.952737  1.710730  131.274851     1     1  3.000000  3.000000   \n",
       "4       1  31.641081  1.914186   93.798055     1     1  2.679664  1.971472   \n",
       "\n",
       "   CAEC  SMOKE  ...  SCC       FAF       TUE  CALC  MTRANS  NObeyesdad  \\\n",
       "0     4      0  ...    0  0.000000  0.976473     1       0           3   \n",
       "1     3      0  ...    0  1.000000  1.000000     0       1           1   \n",
       "2     4      0  ...    0  0.866045  1.673584     0       0           0   \n",
       "3     4      0  ...    0  1.467863  0.780199     1       0           6   \n",
       "4     4      0  ...    0  1.967973  0.931721     1       0           3   \n",
       "\n",
       "         BMI  Activity  Age_Group  Height_Group  \n",
       "0  28.259565  0.000000          1             2  \n",
       "1  23.422091  1.000000          0             1  \n",
       "2  17.126706  1.449399          0             3  \n",
       "3  44.855798  1.145225          1             3  \n",
       "4  25.599151  1.833602          2             5  \n",
       "\n",
       "[5 rows x 21 columns]"
      ]
     },
     "execution_count": 24,
     "metadata": {},
     "output_type": "execute_result"
    }
   ],
   "source": [
    "df_obesity.head()"
   ]
  },
  {
   "cell_type": "code",
   "execution_count": null,
   "metadata": {},
   "outputs": [],
   "source": [
    "preprocessor = ColumnTransformer(\n",
    "    transformers=[\n",
    "        ('num', numerical_transformer, numerical_features),\n",
    "        ('cat', categorical_transformer, categorical_features)\n",
    "    ], remainder='passthrough')"
   ]
  },
  {
   "cell_type": "markdown",
   "metadata": {},
   "source": [
    "## Skew "
   ]
  },
  {
   "cell_type": "code",
   "execution_count": 25,
   "metadata": {},
   "outputs": [
    {
     "name": "stdout",
     "output_type": "stream",
     "text": [
      "Skewness of each column:\n",
      "Age       1.586252\n",
      "Height    0.015803\n",
      "Weight    0.093187\n",
      "FCVC     -0.356611\n",
      "NCP      -1.562253\n",
      "CH2O     -0.212506\n",
      "FAF       0.505726\n",
      "TUE       0.670411\n",
      "dtype: float64\n",
      "Number of skewed columns: 2\n",
      "Skewed columns:\n",
      "['Age', 'NCP']\n"
     ]
    }
   ],
   "source": [
    "obesity_numerical_features\n",
    "# identify skewness\n",
    "\n",
    "skewness = df_obesity[obesity_numerical_features].skew()\n",
    "print(\"Skewness of each column:\")\n",
    "print(skewness)\n",
    "\n",
    "skewed_columns = skewness[abs(skewness) > 0.75].index.tolist()\n",
    "\n",
    "# Showing the skewed columns\n",
    "print(\"Number of skewed columns:\", len(skewed_columns))\n",
    "print(\"Skewed columns:\")\n",
    "print(skewed_columns)"
   ]
  },
  {
   "cell_type": "markdown",
   "metadata": {},
   "source": [
    "## Modeling"
   ]
  },
  {
   "cell_type": "code",
   "execution_count": 26,
   "metadata": {},
   "outputs": [],
   "source": [
    "df_obesity['Age'] = np.log1p(df_obesity['Age'])\n",
    "df_obesity['NCP'] = np.log1p(df_obesity['NCP'])"
   ]
  },
  {
   "cell_type": "code",
   "execution_count": 27,
   "metadata": {},
   "outputs": [],
   "source": [
    "# df_obesity.to_csv('data/train_process.csv')"
   ]
  },
  {
   "cell_type": "code",
   "execution_count": 28,
   "metadata": {},
   "outputs": [],
   "source": [
    "X = df_obesity.drop('NObeyesdad', axis= 1)\n",
    "y = df_obesity['NObeyesdad']"
   ]
  },
  {
   "cell_type": "code",
   "execution_count": 29,
   "metadata": {},
   "outputs": [],
   "source": [
    "X_train, X_validation, y_train, y_validation = train_test_split(X, y, test_size=0.2, random_state=42)"
   ]
  },
  {
   "cell_type": "code",
   "execution_count": 30,
   "metadata": {},
   "outputs": [
    {
     "data": {
      "text/html": [
       "<div>\n",
       "<style scoped>\n",
       "    .dataframe tbody tr th:only-of-type {\n",
       "        vertical-align: middle;\n",
       "    }\n",
       "\n",
       "    .dataframe tbody tr th {\n",
       "        vertical-align: top;\n",
       "    }\n",
       "\n",
       "    .dataframe thead th {\n",
       "        text-align: right;\n",
       "    }\n",
       "</style>\n",
       "<table border=\"1\" class=\"dataframe\">\n",
       "  <thead>\n",
       "    <tr style=\"text-align: right;\">\n",
       "      <th></th>\n",
       "      <th>Gender</th>\n",
       "      <th>Age</th>\n",
       "      <th>Height</th>\n",
       "      <th>Weight</th>\n",
       "      <th>FHWO</th>\n",
       "      <th>FAVC</th>\n",
       "      <th>FCVC</th>\n",
       "      <th>NCP</th>\n",
       "      <th>CAEC</th>\n",
       "      <th>SMOKE</th>\n",
       "      <th>CH2O</th>\n",
       "      <th>SCC</th>\n",
       "      <th>FAF</th>\n",
       "      <th>TUE</th>\n",
       "      <th>CALC</th>\n",
       "      <th>MTRANS</th>\n",
       "      <th>BMI</th>\n",
       "      <th>Activity</th>\n",
       "      <th>Age_Group</th>\n",
       "      <th>Height_Group</th>\n",
       "    </tr>\n",
       "  </thead>\n",
       "  <tbody>\n",
       "    <tr>\n",
       "      <th>9958</th>\n",
       "      <td>1</td>\n",
       "      <td>2.890372</td>\n",
       "      <td>1.770000</td>\n",
       "      <td>97.000000</td>\n",
       "      <td>1</td>\n",
       "      <td>1</td>\n",
       "      <td>3.000000</td>\n",
       "      <td>1.386294</td>\n",
       "      <td>2</td>\n",
       "      <td>0</td>\n",
       "      <td>2.000000</td>\n",
       "      <td>0</td>\n",
       "      <td>3.000000</td>\n",
       "      <td>1.000000</td>\n",
       "      <td>0</td>\n",
       "      <td>1</td>\n",
       "      <td>30.961729</td>\n",
       "      <td>3.000000</td>\n",
       "      <td>0</td>\n",
       "      <td>3</td>\n",
       "    </tr>\n",
       "    <tr>\n",
       "      <th>7841</th>\n",
       "      <td>1</td>\n",
       "      <td>3.164107</td>\n",
       "      <td>1.753389</td>\n",
       "      <td>54.877111</td>\n",
       "      <td>1</td>\n",
       "      <td>1</td>\n",
       "      <td>2.000000</td>\n",
       "      <td>1.609438</td>\n",
       "      <td>4</td>\n",
       "      <td>0</td>\n",
       "      <td>2.000000</td>\n",
       "      <td>0</td>\n",
       "      <td>2.000000</td>\n",
       "      <td>1.000000</td>\n",
       "      <td>0</td>\n",
       "      <td>0</td>\n",
       "      <td>17.849855</td>\n",
       "      <td>2.000000</td>\n",
       "      <td>1</td>\n",
       "      <td>3</td>\n",
       "    </tr>\n",
       "    <tr>\n",
       "      <th>9293</th>\n",
       "      <td>1</td>\n",
       "      <td>3.128440</td>\n",
       "      <td>1.819867</td>\n",
       "      <td>122.024954</td>\n",
       "      <td>1</td>\n",
       "      <td>1</td>\n",
       "      <td>3.000000</td>\n",
       "      <td>1.356046</td>\n",
       "      <td>4</td>\n",
       "      <td>0</td>\n",
       "      <td>1.645338</td>\n",
       "      <td>0</td>\n",
       "      <td>0.739881</td>\n",
       "      <td>0.000000</td>\n",
       "      <td>1</td>\n",
       "      <td>0</td>\n",
       "      <td>36.844219</td>\n",
       "      <td>0.000000</td>\n",
       "      <td>1</td>\n",
       "      <td>4</td>\n",
       "    </tr>\n",
       "    <tr>\n",
       "      <th>15209</th>\n",
       "      <td>0</td>\n",
       "      <td>3.737670</td>\n",
       "      <td>1.580000</td>\n",
       "      <td>80.000000</td>\n",
       "      <td>1</td>\n",
       "      <td>1</td>\n",
       "      <td>2.000000</td>\n",
       "      <td>1.386294</td>\n",
       "      <td>4</td>\n",
       "      <td>0</td>\n",
       "      <td>1.000000</td>\n",
       "      <td>0</td>\n",
       "      <td>0.000000</td>\n",
       "      <td>0.000000</td>\n",
       "      <td>1</td>\n",
       "      <td>1</td>\n",
       "      <td>32.046146</td>\n",
       "      <td>0.000000</td>\n",
       "      <td>2</td>\n",
       "      <td>1</td>\n",
       "    </tr>\n",
       "    <tr>\n",
       "      <th>16515</th>\n",
       "      <td>1</td>\n",
       "      <td>3.178054</td>\n",
       "      <td>1.800000</td>\n",
       "      <td>95.000000</td>\n",
       "      <td>1</td>\n",
       "      <td>0</td>\n",
       "      <td>3.000000</td>\n",
       "      <td>1.386294</td>\n",
       "      <td>4</td>\n",
       "      <td>0</td>\n",
       "      <td>3.000000</td>\n",
       "      <td>0</td>\n",
       "      <td>2.000000</td>\n",
       "      <td>1.000000</td>\n",
       "      <td>2</td>\n",
       "      <td>0</td>\n",
       "      <td>29.320988</td>\n",
       "      <td>2.000000</td>\n",
       "      <td>1</td>\n",
       "      <td>3</td>\n",
       "    </tr>\n",
       "    <tr>\n",
       "      <th>...</th>\n",
       "      <td>...</td>\n",
       "      <td>...</td>\n",
       "      <td>...</td>\n",
       "      <td>...</td>\n",
       "      <td>...</td>\n",
       "      <td>...</td>\n",
       "      <td>...</td>\n",
       "      <td>...</td>\n",
       "      <td>...</td>\n",
       "      <td>...</td>\n",
       "      <td>...</td>\n",
       "      <td>...</td>\n",
       "      <td>...</td>\n",
       "      <td>...</td>\n",
       "      <td>...</td>\n",
       "      <td>...</td>\n",
       "      <td>...</td>\n",
       "      <td>...</td>\n",
       "      <td>...</td>\n",
       "      <td>...</td>\n",
       "    </tr>\n",
       "    <tr>\n",
       "      <th>11284</th>\n",
       "      <td>0</td>\n",
       "      <td>2.944439</td>\n",
       "      <td>1.722461</td>\n",
       "      <td>80.442775</td>\n",
       "      <td>1</td>\n",
       "      <td>1</td>\n",
       "      <td>2.628791</td>\n",
       "      <td>1.270573</td>\n",
       "      <td>4</td>\n",
       "      <td>0</td>\n",
       "      <td>1.844645</td>\n",
       "      <td>0</td>\n",
       "      <td>0.288032</td>\n",
       "      <td>0.722276</td>\n",
       "      <td>0</td>\n",
       "      <td>0</td>\n",
       "      <td>27.113666</td>\n",
       "      <td>0.208039</td>\n",
       "      <td>0</td>\n",
       "      <td>3</td>\n",
       "    </tr>\n",
       "    <tr>\n",
       "      <th>11964</th>\n",
       "      <td>1</td>\n",
       "      <td>3.135494</td>\n",
       "      <td>1.750000</td>\n",
       "      <td>95.000000</td>\n",
       "      <td>1</td>\n",
       "      <td>0</td>\n",
       "      <td>3.000000</td>\n",
       "      <td>1.386294</td>\n",
       "      <td>4</td>\n",
       "      <td>0</td>\n",
       "      <td>2.000000</td>\n",
       "      <td>0</td>\n",
       "      <td>3.000000</td>\n",
       "      <td>0.000000</td>\n",
       "      <td>1</td>\n",
       "      <td>0</td>\n",
       "      <td>31.020408</td>\n",
       "      <td>0.000000</td>\n",
       "      <td>1</td>\n",
       "      <td>3</td>\n",
       "    </tr>\n",
       "    <tr>\n",
       "      <th>5390</th>\n",
       "      <td>1</td>\n",
       "      <td>3.091042</td>\n",
       "      <td>1.620000</td>\n",
       "      <td>68.000000</td>\n",
       "      <td>0</td>\n",
       "      <td>1</td>\n",
       "      <td>2.000000</td>\n",
       "      <td>1.386294</td>\n",
       "      <td>2</td>\n",
       "      <td>0</td>\n",
       "      <td>3.000000</td>\n",
       "      <td>0</td>\n",
       "      <td>2.000000</td>\n",
       "      <td>0.000000</td>\n",
       "      <td>1</td>\n",
       "      <td>0</td>\n",
       "      <td>25.910684</td>\n",
       "      <td>0.000000</td>\n",
       "      <td>1</td>\n",
       "      <td>2</td>\n",
       "    </tr>\n",
       "    <tr>\n",
       "      <th>860</th>\n",
       "      <td>0</td>\n",
       "      <td>3.295837</td>\n",
       "      <td>1.650125</td>\n",
       "      <td>111.939671</td>\n",
       "      <td>1</td>\n",
       "      <td>1</td>\n",
       "      <td>3.000000</td>\n",
       "      <td>1.386294</td>\n",
       "      <td>4</td>\n",
       "      <td>0</td>\n",
       "      <td>2.770732</td>\n",
       "      <td>0</td>\n",
       "      <td>0.000000</td>\n",
       "      <td>0.237307</td>\n",
       "      <td>1</td>\n",
       "      <td>0</td>\n",
       "      <td>41.110271</td>\n",
       "      <td>0.000000</td>\n",
       "      <td>1</td>\n",
       "      <td>2</td>\n",
       "    </tr>\n",
       "    <tr>\n",
       "      <th>15795</th>\n",
       "      <td>1</td>\n",
       "      <td>3.663508</td>\n",
       "      <td>1.774330</td>\n",
       "      <td>107.998815</td>\n",
       "      <td>1</td>\n",
       "      <td>1</td>\n",
       "      <td>2.964419</td>\n",
       "      <td>1.361686</td>\n",
       "      <td>4</td>\n",
       "      <td>0</td>\n",
       "      <td>2.745242</td>\n",
       "      <td>0</td>\n",
       "      <td>2.545707</td>\n",
       "      <td>0.000000</td>\n",
       "      <td>1</td>\n",
       "      <td>1</td>\n",
       "      <td>34.304429</td>\n",
       "      <td>0.000000</td>\n",
       "      <td>2</td>\n",
       "      <td>3</td>\n",
       "    </tr>\n",
       "  </tbody>\n",
       "</table>\n",
       "<p>16606 rows × 20 columns</p>\n",
       "</div>"
      ],
      "text/plain": [
       "       Gender       Age    Height      Weight  FHWO  FAVC      FCVC       NCP  \\\n",
       "9958        1  2.890372  1.770000   97.000000     1     1  3.000000  1.386294   \n",
       "7841        1  3.164107  1.753389   54.877111     1     1  2.000000  1.609438   \n",
       "9293        1  3.128440  1.819867  122.024954     1     1  3.000000  1.356046   \n",
       "15209       0  3.737670  1.580000   80.000000     1     1  2.000000  1.386294   \n",
       "16515       1  3.178054  1.800000   95.000000     1     0  3.000000  1.386294   \n",
       "...       ...       ...       ...         ...   ...   ...       ...       ...   \n",
       "11284       0  2.944439  1.722461   80.442775     1     1  2.628791  1.270573   \n",
       "11964       1  3.135494  1.750000   95.000000     1     0  3.000000  1.386294   \n",
       "5390        1  3.091042  1.620000   68.000000     0     1  2.000000  1.386294   \n",
       "860         0  3.295837  1.650125  111.939671     1     1  3.000000  1.386294   \n",
       "15795       1  3.663508  1.774330  107.998815     1     1  2.964419  1.361686   \n",
       "\n",
       "       CAEC  SMOKE      CH2O  SCC       FAF       TUE  CALC  MTRANS  \\\n",
       "9958      2      0  2.000000    0  3.000000  1.000000     0       1   \n",
       "7841      4      0  2.000000    0  2.000000  1.000000     0       0   \n",
       "9293      4      0  1.645338    0  0.739881  0.000000     1       0   \n",
       "15209     4      0  1.000000    0  0.000000  0.000000     1       1   \n",
       "16515     4      0  3.000000    0  2.000000  1.000000     2       0   \n",
       "...     ...    ...       ...  ...       ...       ...   ...     ...   \n",
       "11284     4      0  1.844645    0  0.288032  0.722276     0       0   \n",
       "11964     4      0  2.000000    0  3.000000  0.000000     1       0   \n",
       "5390      2      0  3.000000    0  2.000000  0.000000     1       0   \n",
       "860       4      0  2.770732    0  0.000000  0.237307     1       0   \n",
       "15795     4      0  2.745242    0  2.545707  0.000000     1       1   \n",
       "\n",
       "             BMI  Activity  Age_Group  Height_Group  \n",
       "9958   30.961729  3.000000          0             3  \n",
       "7841   17.849855  2.000000          1             3  \n",
       "9293   36.844219  0.000000          1             4  \n",
       "15209  32.046146  0.000000          2             1  \n",
       "16515  29.320988  2.000000          1             3  \n",
       "...          ...       ...        ...           ...  \n",
       "11284  27.113666  0.208039          0             3  \n",
       "11964  31.020408  0.000000          1             3  \n",
       "5390   25.910684  0.000000          1             2  \n",
       "860    41.110271  0.000000          1             2  \n",
       "15795  34.304429  0.000000          2             3  \n",
       "\n",
       "[16606 rows x 20 columns]"
      ]
     },
     "execution_count": 30,
     "metadata": {},
     "output_type": "execute_result"
    }
   ],
   "source": [
    "X_train"
   ]
  },
  {
   "cell_type": "markdown",
   "metadata": {},
   "source": [
    "### XGBOOST"
   ]
  },
  {
   "cell_type": "code",
   "execution_count": 37,
   "metadata": {},
   "outputs": [
    {
     "name": "stderr",
     "output_type": "stream",
     "text": [
      "[I 2024-11-06 21:27:52,166] A new study created in memory with name: no-name-67497ddc-3670-4b13-8bb9-ab0b6ac529c0\n"
     ]
    },
    {
     "data": {
      "application/vnd.jupyter.widget-view+json": {
       "model_id": "0d0d28ff77b84737b57e1eac5be3d5fe",
       "version_major": 2,
       "version_minor": 0
      },
      "text/plain": [
       "  0%|          | 0/10 [00:00<?, ?it/s]"
      ]
     },
     "metadata": {},
     "output_type": "display_data"
    },
    {
     "name": "stdout",
     "output_type": "stream",
     "text": [
      "[I 2024-11-06 21:28:38,231] Trial 3 finished with value: 0.8148184878241288 and parameters: {'n_estimators': 61, 'learning_rate': 0.013076335803972126, 'max_depth': 1, 'grow_policy': 'lossguide', 'min_child_weight': 3, 'subsample': 0.11631512230487401, 'colsample_bytree': 0.3257483329887747, 'gamma': 0.12026132028968083, 'reg_lambda': 0.06373448437148876, 'reg_alpha': 0.24088728830385964}. Best is trial 3 with value: 0.8148184878241288.\n",
      "[I 2024-11-06 21:29:02,799] Trial 8 finished with value: 0.8746989344661884 and parameters: {'n_estimators': 71, 'learning_rate': 0.06967386747136214, 'max_depth': 2, 'grow_policy': 'depthwise', 'min_child_weight': 2, 'subsample': 0.3986619537460666, 'colsample_bytree': 0.7159962787824882, 'gamma': 0.11178926876836787, 'reg_lambda': 0.04104530601884104, 'reg_alpha': 0.9837297482393597}. Best is trial 8 with value: 0.8746989344661884.\n",
      "[I 2024-11-06 21:29:05,345] Trial 6 finished with value: 0.8657866843094923 and parameters: {'n_estimators': 99, 'learning_rate': 0.06408341739830184, 'max_depth': 1, 'grow_policy': 'depthwise', 'min_child_weight': 2, 'subsample': 0.5781036746185738, 'colsample_bytree': 0.46351002894146287, 'gamma': 0.344934632467339, 'reg_lambda': 0.502540460891604, 'reg_alpha': 0.48310542028979375}. Best is trial 8 with value: 0.8746989344661884.\n",
      "[I 2024-11-06 21:29:25,594] Trial 4 finished with value: 0.8709895303758387 and parameters: {'n_estimators': 112, 'learning_rate': 0.03641366121108589, 'max_depth': 2, 'grow_policy': 'lossguide', 'min_child_weight': 6, 'subsample': 0.7885695611405316, 'colsample_bytree': 0.8778099549835898, 'gamma': 0.38903741909591794, 'reg_lambda': 0.014399032450723492, 'reg_alpha': 0.705386422161538}. Best is trial 8 with value: 0.8746989344661884.\n",
      "[I 2024-11-06 21:29:28,088] Trial 2 finished with value: 0.8761440211713907 and parameters: {'n_estimators': 112, 'learning_rate': 0.04688324247714413, 'max_depth': 2, 'grow_policy': 'lossguide', 'min_child_weight': 2, 'subsample': 0.917120069793758, 'colsample_bytree': 0.5899940607840262, 'gamma': 0.48770177096191003, 'reg_lambda': 0.0466660048655303, 'reg_alpha': 0.6505031569194606}. Best is trial 2 with value: 0.8761440211713907.\n",
      "[I 2024-11-06 21:29:34,808] Trial 1 finished with value: 0.8624144439027788 and parameters: {'n_estimators': 127, 'learning_rate': 0.015923194522619435, 'max_depth': 2, 'grow_policy': 'depthwise', 'min_child_weight': 3, 'subsample': 0.8679357147148109, 'colsample_bytree': 0.45378418547471633, 'gamma': 0.9676605411502491, 'reg_lambda': 0.614445543467595, 'reg_alpha': 0.8138926983044013}. Best is trial 2 with value: 0.8761440211713907.\n",
      "[I 2024-11-06 21:29:51,266] Trial 0 finished with value: 0.8777821111033731 and parameters: {'n_estimators': 195, 'learning_rate': 0.031647326427131785, 'max_depth': 2, 'grow_policy': 'depthwise', 'min_child_weight': 4, 'subsample': 0.5185819968720914, 'colsample_bytree': 0.9755551632183033, 'gamma': 0.20323595744687065, 'reg_lambda': 0.3627765584711131, 'reg_alpha': 0.20358696204546245}. Best is trial 0 with value: 0.8777821111033731.\n",
      "[I 2024-11-06 21:29:52,148] Trial 7 finished with value: 0.8931495461615245 and parameters: {'n_estimators': 179, 'learning_rate': 0.09264603629325555, 'max_depth': 3, 'grow_policy': 'lossguide', 'min_child_weight': 2, 'subsample': 0.2752406796594471, 'colsample_bytree': 0.14731174924895407, 'gamma': 0.8286809496095753, 'reg_lambda': 0.6800410115837733, 'reg_alpha': 0.8952335990395393}. Best is trial 7 with value: 0.8931495461615245.\n",
      "[I 2024-11-06 21:30:10,252] Trial 5 finished with value: 0.9082279174501474 and parameters: {'n_estimators': 156, 'learning_rate': 0.0834925109799299, 'max_depth': 0, 'grow_policy': 'depthwise', 'min_child_weight': 3, 'subsample': 0.3673094537399475, 'colsample_bytree': 0.4334021441516963, 'gamma': 0.6127109317530279, 'reg_lambda': 0.669775313618659, 'reg_alpha': 0.9044311131309759}. Best is trial 5 with value: 0.9082279174501474.\n",
      "[I 2024-11-06 21:30:35,776] Trial 9 finished with value: 0.9071199247858486 and parameters: {'n_estimators': 142, 'learning_rate': 0.08750543728370687, 'max_depth': 0, 'grow_policy': 'lossguide', 'min_child_weight': 6, 'subsample': 0.4954190868431396, 'colsample_bytree': 0.25700677530293886, 'gamma': 0.9593817392377517, 'reg_lambda': 0.6992440725387283, 'reg_alpha': 0.18899534415337516}. Best is trial 5 with value: 0.9082279174501474.\n",
      "\n",
      "Best Parameters:\n",
      "  n_estimators: 156\n",
      "  learning_rate: 0.0834925109799299\n",
      "  max_depth: 0\n",
      "  grow_policy: depthwise\n",
      "  min_child_weight: 3\n",
      "  subsample: 0.3673094537399475\n",
      "  colsample_bytree: 0.4334021441516963\n",
      "  gamma: 0.6127109317530279\n",
      "  reg_lambda: 0.669775313618659\n",
      "  reg_alpha: 0.9044311131309759\n",
      "\n",
      "Best Mean Accuracy: 0.9082\n"
     ]
    }
   ],
   "source": [
    "\n",
    "\n",
    "# Define the objective function\n",
    "def objective_xgb(trial):\n",
    "    param = {\n",
    "        'n_estimators': trial.suggest_int('n_estimators', 50, 200),\n",
    "        'learning_rate': trial.suggest_float('learning_rate', 0.01, 0.1),\n",
    "        'max_depth': trial.suggest_int('max_depth', 0, 4),\n",
    "        'objective': 'multi:softmax',\n",
    "        'grow_policy': trial.suggest_categorical('grow_policy', ['depthwise', 'lossguide']),\n",
    "        'num_class': 7,\n",
    "        'min_child_weight': trial.suggest_int('min_child_weight', 1, 7),\n",
    "        'subsample': trial.suggest_float('subsample', 0.1, 1),\n",
    "        'colsample_bytree': trial.suggest_float('colsample_bytree', 0.1, 1),\n",
    "        'gamma': trial.suggest_float('gamma', 0.1, 1),\n",
    "        'random_state': 42,\n",
    "        'reg_lambda': trial.suggest_float('reg_lambda', 0, 1),  # renamed for consistency\n",
    "        'reg_alpha': trial.suggest_float('reg_alpha', 0, 1),\n",
    "        'booster': 'gbtree',\n",
    "        'tree_method': 'gpu_hist',  \n",
    "        'verbosity': 1\n",
    "    }\n",
    "    \n",
    "    stratified_kf = StratifiedKFold(n_splits=10, shuffle=True, random_state=42)\n",
    "    \n",
    "    xgb_model = XGBClassifier(**param)\n",
    "    \n",
    "    accuracies = []\n",
    "\n",
    "    # Perform Stratified K-Fold Cross Validation\n",
    "    for train_index, test_index in stratified_kf.split(X, y):\n",
    "        X_train, X_test = X[train_index], X[test_index]\n",
    "        y_train, y_test = y[train_index], y[test_index]\n",
    "\n",
    "        xgb_model.fit(X_train, y_train)\n",
    "        y_pred = xgb_model.predict(X_test)\n",
    "\n",
    "        accuracy = accuracy_score(y_test, y_pred)\n",
    "        accuracies.append(accuracy)\n",
    "\n",
    "    mean_accuracy = np.mean(accuracies)\n",
    "    return mean_accuracy\n",
    "\n",
    "# Set up the study with TPESampler and MedianPruner\n",
    "tpesampler = optuna.samplers.TPESampler(seed=42)\n",
    "pruner = optuna.pruners.MedianPruner(n_warmup_steps=5)\n",
    "\n",
    "if __name__ == \"__main__\":\n",
    "    study = optuna.create_study(direction='maximize', sampler=tpesampler, pruner=pruner)\n",
    "    study.optimize(objective_xgb, n_trials=10, n_jobs=-1, show_progress_bar=True)\n",
    "    \n",
    "    best_params = study.best_params\n",
    "    XGB_best_mean_accuracy = study.best_value\n",
    "    \n",
    "    # Display results\n",
    "    print(\"\\nBest Parameters:\")\n",
    "    for param, value in best_params.items():\n",
    "        print(f\"  {param}: {value}\")\n",
    "    print(f\"\\nBest Mean Accuracy: {XGB_best_mean_accuracy:.4f}\")\n",
    "    \n",
    "    # Save best parameters for further use\n",
    "    XGB_best = best_params"
   ]
  },
  {
   "cell_type": "markdown",
   "metadata": {},
   "source": [
    "Best Parameters:\n",
    "  n_estimators: 156\n",
    "  learning_rate: 0.0834925109799299\n",
    "  max_depth: 0\n",
    "  grow_policy: depthwise\n",
    "  min_child_weight: 3\n",
    "  subsample: 0.3673094537399475\n",
    "  colsample_bytree: 0.4334021441516963\n",
    "  gamma: 0.6127109317530279\n",
    "  reg_lambda: 0.669775313618659\n",
    "  reg_alpha: 0.9044311131309759"
   ]
  },
  {
   "cell_type": "code",
   "execution_count": 38,
   "metadata": {},
   "outputs": [],
   "source": [
    "XGB = XGBClassifier(**XGB_best)"
   ]
  },
  {
   "cell_type": "code",
   "execution_count": 39,
   "metadata": {},
   "outputs": [
    {
     "name": "stdout",
     "output_type": "stream",
     "text": [
      "Accuracy with optimized parameters: 0.9092003853564548\n"
     ]
    }
   ],
   "source": [
    "# Fit the model on your training data\n",
    "XGB.fit(X_train, y_train)\n",
    "\n",
    "# Predict on test data\n",
    "y_pred = XGB.predict(X_validation)\n",
    "\n",
    "# Calculate the accuracy\n",
    "accuracy = accuracy_score(y_validation, y_pred)\n",
    "print(f\"Accuracy with optimized parameters: {accuracy}\")"
   ]
  },
  {
   "cell_type": "markdown",
   "metadata": {},
   "source": [
    "### Logistic Regression"
   ]
  },
  {
   "cell_type": "code",
   "execution_count": 42,
   "metadata": {},
   "outputs": [
    {
     "name": "stderr",
     "output_type": "stream",
     "text": [
      "[I 2024-11-06 21:30:39,560] A new study created in memory with name: no-name-99c69ee1-c863-4516-99a8-cb8d1ea76f16\n"
     ]
    },
    {
     "data": {
      "application/vnd.jupyter.widget-view+json": {
       "model_id": "b6cdf4948a684e318faa94406922dedd",
       "version_major": 2,
       "version_minor": 0
      },
      "text/plain": [
       "  0%|          | 0/10 [00:00<?, ?it/s]"
      ]
     },
     "metadata": {},
     "output_type": "display_data"
    },
    {
     "name": "stdout",
     "output_type": "stream",
     "text": [
      "[I 2024-11-06 21:31:21,738] Trial 1 finished with value: 0.7622122246210274 and parameters: {'penalty': 'l2', 'C': 2.5490170143486623, 'solver': 'liblinear', 'max_iter': 1374}. Best is trial 1 with value: 0.7622122246210274.\n",
      "[I 2024-11-06 21:31:23,817] Trial 5 finished with value: 0.7628867144880098 and parameters: {'penalty': 'l2', 'C': 5.5311900918062795, 'solver': 'liblinear', 'max_iter': 1982}. Best is trial 5 with value: 0.7628867144880098.\n",
      "[I 2024-11-06 21:31:23,971] Trial 9 finished with value: 0.763079369501126 and parameters: {'penalty': 'l2', 'C': 8.338234559184091, 'solver': 'liblinear', 'max_iter': 4281}. Best is trial 9 with value: 0.763079369501126.\n",
      "[I 2024-11-06 21:32:02,038] Trial 2 finished with value: 0.8656421524247279 and parameters: {'penalty': 'l2', 'C': 4.28883121636619, 'solver': 'saga', 'max_iter': 3628}. Best is trial 2 with value: 0.8656421524247279.\n",
      "[I 2024-11-06 21:32:20,947] Trial 3 finished with value: 0.8653531118694431 and parameters: {'penalty': 'l2', 'C': 7.600188436746263, 'solver': 'saga', 'max_iter': 3519}. Best is trial 2 with value: 0.8656421524247279.\n",
      "[I 2024-11-06 21:33:17,728] Trial 4 finished with value: 0.865931216194257 and parameters: {'penalty': 'l1', 'C': 0.6077440025605075, 'solver': 'saga', 'max_iter': 3950}. Best is trial 4 with value: 0.865931216194257.\n",
      "[I 2024-11-06 21:33:30,203] Trial 6 finished with value: 0.8652085799846786 and parameters: {'penalty': 'l1', 'C': 1.1170903564436216, 'solver': 'saga', 'max_iter': 3871}. Best is trial 4 with value: 0.865931216194257.\n",
      "[I 2024-11-06 21:34:10,874] Trial 0 finished with value: 0.8651604104278385 and parameters: {'penalty': 'l1', 'C': 9.603791406485037, 'solver': 'saga', 'max_iter': 4459}. Best is trial 4 with value: 0.865931216194257.\n",
      "[I 2024-11-06 21:35:07,642] Trial 7 finished with value: 0.7635128955126866 and parameters: {'penalty': 'l1', 'C': 7.200562277739981, 'solver': 'liblinear', 'max_iter': 2815}. Best is trial 4 with value: 0.865931216194257.\n",
      "[I 2024-11-06 21:35:13,661] Trial 8 finished with value: 0.7635610650695267 and parameters: {'penalty': 'l1', 'C': 8.45298230454164, 'solver': 'liblinear', 'max_iter': 4717}. Best is trial 4 with value: 0.865931216194257.\n",
      "\n",
      "Best Parameters:\n",
      "  penalty: l1\n",
      "  C: 0.6077440025605075\n",
      "  solver: saga\n",
      "  max_iter: 3950\n",
      "\n",
      "Best Mean Accuracy: 0.8755\n"
     ]
    }
   ],
   "source": [
    "def objective_logistic(trial):\n",
    "    param = {\n",
    "        'penalty': trial.suggest_categorical('penalty', ['l1', 'l2']),\n",
    "        'C': trial.suggest_float('C', 0.1, 10),\n",
    "        'solver': trial.suggest_categorical('solver', ['liblinear', 'saga']),\n",
    "        'max_iter': trial.suggest_int('max_iter', 1000, 5000),\n",
    "        'random_state': 42,\n",
    "        'warm_start': True\n",
    "    }\n",
    "    \n",
    "    # Scale the features\n",
    "    from sklearn.preprocessing import StandardScaler\n",
    "    scaler = StandardScaler()\n",
    "    X_scaled = scaler.fit_transform(X)\n",
    "    \n",
    "    stratified_kf = StratifiedKFold(n_splits=10, shuffle=True, random_state=42)\n",
    "    \n",
    "    lr_model = LogisticRegression(**param)\n",
    "    \n",
    "    accuracies = []\n",
    "\n",
    "    for train_index, test_index in stratified_kf.split(X_scaled, y):\n",
    "        X_train, X_test = X_scaled[train_index], X_scaled[test_index]\n",
    "        y_train, y_test = y[train_index], y[test_index]\n",
    "\n",
    "        lr_model.fit(X_train, y_train)\n",
    "        y_prob = lr_model.predict(X_test)\n",
    "\n",
    "        accuracy = accuracy_score(y_test, y_prob)\n",
    "        accuracies.append(accuracy)\n",
    "\n",
    "    mean_accuracy = np.mean(accuracies)\n",
    "    return mean_accuracy\n",
    "\n",
    "tpesampler = optuna.samplers.TPESampler(seed=42)\n",
    "pruner = optuna.pruners.MedianPruner(n_warmup_steps=5)\n",
    "\n",
    "if __name__ == \"__main__\":\n",
    "    study = optuna.create_study(direction='maximize', sampler=tpesampler, pruner=pruner)\n",
    "    study.optimize(objective_logistic, n_trials=10, n_jobs=-1, show_progress_bar=True)\n",
    "    \n",
    "    best_params = study.best_params\n",
    "    LR_best_mean_accuracy = study.best_value\n",
    "    \n",
    "    LR_best = best_params\n",
    "    \n",
    "    print(\"\\nBest Parameters:\")\n",
    "    for param, value in best_params.items():\n",
    "        print(f\"  {param}: {value}\")\n",
    "    print(f\"\\nBest Mean Accuracy: {best_accuracy:.4f}\")\n"
   ]
  },
  {
   "cell_type": "markdown",
   "metadata": {},
   "source": [
    "Best Parameters:\n",
    "  penalty: l1\n",
    "  C: 0.6077440025605075\n",
    "  solver: saga\n",
    "  max_iter: 3950"
   ]
  },
  {
   "cell_type": "code",
   "execution_count": 43,
   "metadata": {},
   "outputs": [
    {
     "name": "stdout",
     "output_type": "stream",
     "text": [
      "Accuracy with optimized parameters: 0.850674373795761\n"
     ]
    },
    {
     "name": "stderr",
     "output_type": "stream",
     "text": [
      "c:\\Users\\vohoa\\AppData\\Local\\Programs\\Python\\Python312\\Lib\\site-packages\\sklearn\\linear_model\\_sag.py:350: ConvergenceWarning: The max_iter was reached which means the coef_ did not converge\n",
      "  warnings.warn(\n"
     ]
    }
   ],
   "source": [
    "LR = LogisticRegression(**LR_best)\n",
    "\n",
    "LR.fit(X_train, y_train)\n",
    "\n",
    "y_pred = LR.predict(X_validation)\n",
    "\n",
    "accuracy = accuracy_score(y_validation, y_pred)\n",
    "print(f\"Accuracy with optimized parameters: {accuracy}\")"
   ]
  },
  {
   "cell_type": "markdown",
   "metadata": {},
   "source": [
    "## Feature Importance"
   ]
  },
  {
   "cell_type": "code",
   "execution_count": 44,
   "metadata": {},
   "outputs": [
    {
     "data": {
      "image/png": "[encoded data removed]",
      "text/plain": [
       "<Figure size 1200x600 with 1 Axes>"
      ]
     },
     "metadata": {},
     "output_type": "display_data"
    }
   ],
   "source": [
    "# XGB\n",
    "features = ['Gender', 'Age', 'Height', 'Weight', 'FHWO', 'FAVC', 'FCVC', 'NCP',\n",
    "       'CAEC', 'SMOKE', 'CH2O', 'SCC', 'FAF', 'TUE', 'CALC', 'MTRANS', 'BMI', 'Activity', 'Age_Group', 'Height_Group']\n",
    "feature_importance_df = pd.DataFrame(\n",
    "    {'Feature': features, 'Importance': XGB.feature_importances_}\n",
    ")\n",
    "\n",
    "# Sort features by importance\n",
    "feature_importance_df = feature_importance_df.sort_values(by='Importance', ascending=False)\n",
    "\n",
    "# Plotting the feature importances using seaborn\n",
    "plt.figure(figsize=(12, 6))\n",
    "sns.barplot(x='Importance', y='Feature', data=feature_importance_df)\n",
    "plt.xlabel('Importance')\n",
    "plt.ylabel('Feature')\n",
    "plt.title('XGBoost Feature Importances')\n",
    "plt.show()"
   ]
  },
  {
   "cell_type": "markdown",
   "metadata": {},
   "source": [
    "## Confusion Matrix"
   ]
  },
  {
   "cell_type": "code",
   "execution_count": 48,
   "metadata": {},
   "outputs": [],
   "source": [
    "def matrices(model, name, X, y):\n",
    "    \n",
    "    predicted_classifier = model.predict(X)\n",
    "    \n",
    "    # Generate confusion matrix\n",
    "    conf_matrices = confusion_matrix(y, predicted_classifier)\n",
    "\n",
    "    # Plot confusion matrix\n",
    "    plt.figure(figsize=(10, 6))\n",
    "    sns.heatmap(conf_matrices, annot=True, fmt='d', cmap='crest', annot_kws={'fontsize': 10}, square=True)\n",
    "    \n",
    "    # Labels and Title\n",
    "    plt.xlabel('Predicted', fontsize=10, color='black', fontweight='bold')\n",
    "    plt.ylabel('Actual', fontsize=10, color='black', fontweight='bold')\n",
    "    plt.xticks(fontsize=10, color='black')\n",
    "    plt.yticks(fontsize=10, color='black')\n",
    "    plt.title(f'Confusion Matrix with {name} Classifier', fontsize=12, fontweight='bold')\n",
    "    \n",
    "    # Show the plot\n",
    "    plt.show()"
   ]
  },
  {
   "cell_type": "code",
   "execution_count": 76,
   "metadata": {},
   "outputs": [
    {
     "data": {
      "image/png": "[encoded data removed]",
      "text/plain": [
       "<Figure size 1000x600 with 2 Axes>"
      ]
     },
     "metadata": {},
     "output_type": "display_data"
    },
    {
     "data": {
      "image/png": "[encoded data removed]",
      "text/plain": [
       "<Figure size 1000x600 with 2 Axes>"
      ]
     },
     "metadata": {},
     "output_type": "display_data"
    },
    {
     "name": "stderr",
     "output_type": "stream",
     "text": [
      "c:\\Users\\vohoa\\AppData\\Local\\Programs\\Python\\Python312\\Lib\\site-packages\\sklearn\\base.py:486: UserWarning: X has feature names, but RandomForestClassifier was fitted without feature names\n",
      "  warnings.warn(\n"
     ]
    },
    {
     "data": {
      "image/png": "[encoded data removed]",
      "text/plain": [
       "<Figure size 1000x600 with 2 Axes>"
      ]
     },
     "metadata": {},
     "output_type": "display_data"
    },
    {
     "name": "stderr",
     "output_type": "stream",
     "text": [
      "c:\\Users\\vohoa\\AppData\\Local\\Programs\\Python\\Python312\\Lib\\site-packages\\sklearn\\base.py:486: UserWarning: X has feature names, but DecisionTreeClassifier was fitted without feature names\n",
      "  warnings.warn(\n"
     ]
    },
    {
     "data": {
      "image/png": "[encoded data removed]",
      "text/plain": [
       "<Figure size 1000x600 with 2 Axes>"
      ]
     },
     "metadata": {},
     "output_type": "display_data"
    },
    {
     "name": "stderr",
     "output_type": "stream",
     "text": [
      "c:\\Users\\vohoa\\AppData\\Local\\Programs\\Python\\Python312\\Lib\\site-packages\\sklearn\\base.py:486: UserWarning: X has feature names, but LogisticRegression was fitted without feature names\n",
      "  warnings.warn(\n"
     ]
    },
    {
     "data": {
      "image/png": "[encoded data removed]",
      "text/plain": [
       "<Figure size 1000x600 with 2 Axes>"
      ]
     },
     "metadata": {},
     "output_type": "display_data"
    }
   ],
   "source": [
    "matrices(XGB, 'XGB',X_validation, y_validation)\n",
    "matrices(LGBM, 'LGBM',X_validation, y_validation)\n",
    "matrices(RF, 'RF',X_validation, y_validation)\n",
    "matrices(decisionTree, 'Decision Tree',X_validation, y_validation)\n",
    "matrices(LR, 'LR',X_validation, y_validation)"
   ]
  }
 ],
 "metadata": {
  "kernelspec": {
   "display_name": "Python 3",
   "language": "python",
   "name": "python3"
  },
  "language_info": {
   "codemirror_mode": {
    "name": "ipython",
    "version": 3
   },
   "file_extension": ".py",
   "mimetype": "text/x-python",
   "name": "python",
   "nbconvert_exporter": "python",
   "pygments_lexer": "ipython3",
   "version": "3.12.2"
  }
 },
 "nbformat": 4,
 "nbformat_minor": 2
}
